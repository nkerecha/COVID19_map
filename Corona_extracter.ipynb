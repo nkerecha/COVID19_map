{
 "cells": [
  {
   "cell_type": "markdown",
   "metadata": {},
   "source": [
    "\n",
    "https://www.worldometers.info/coronavirus/"
   ]
  },
  {
   "cell_type": "code",
   "execution_count": 73,
   "metadata": {},
   "outputs": [],
   "source": [
    "import matplotlib.pyplot as plt\n",
    "import pandas as pd\n",
    "import requests\n",
    "from bs4 import BeautifulSoup\n",
    "import lxml.html as lh\n",
    "import pandas as pd\n",
    "import copy \n",
    "url= 'https://www.worldometers.info/coronavirus'\n",
    "page = requests.get(url)\n",
    "doc = lh.fromstring(page.content)\n",
    "table_data = doc.xpath('//td')"
   ]
  },
  {
   "cell_type": "code",
   "execution_count": 74,
   "metadata": {},
   "outputs": [],
   "source": [
    "new_list = []\n",
    "for t in table_data:\n",
    "    new_list.append(t.text_content())"
   ]
  },
  {
   "cell_type": "code",
   "execution_count": 75,
   "metadata": {},
   "outputs": [],
   "source": [
    "country_data = []\n",
    "count = 0\n",
    "while (count <= len(new_list)-10):\n",
    "    i = 0\n",
    "    holder = []\n",
    "    while (i <= 10):\n",
    "        holder.append(new_list[count+i])\n",
    "        i += 1\n",
    "    country_data.append(holder)\n",
    "    count += 11"
   ]
  },
  {
   "cell_type": "code",
   "execution_count": 76,
   "metadata": {},
   "outputs": [],
   "source": [
    "list_header = [['Country_Other','Total_Cases','New_Cases','Total_Deaths','New_Deaths','Total_Recovered',\n",
    "                'Active_Cases','Serious_Critical','Total_Cases/1M_pop','Total_Deaths 1m/pop','1st Case']]\n",
    "uncleaned_data = list_header + country_data"
   ]
  },
  {
   "cell_type": "code",
   "execution_count": 77,
   "metadata": {},
   "outputs": [],
   "source": [
    "def type_cleaner(given_list,i,j):\n",
    "    if (str(given_list[i][j]).strip() != ''):\n",
    "        value = str(given_list[i][j]).replace(\"+\", \"\")\n",
    "        created = value.replace(\",\", \"\")\n",
    "        new_value = int(created)\n",
    "        final_value = new_value\n",
    "        given_list[i][j] = final_value\n",
    "    else:\n",
    "        given_list[i][j] = None\n",
    "    return None\n",
    "for i in range(1,len(uncleaned_data)):\n",
    "    type_cleaner(uncleaned_data,i,1)\n",
    "    type_cleaner(uncleaned_data,i,2)\n",
    "    type_cleaner(uncleaned_data,i,3)\n",
    "    type_cleaner(uncleaned_data,i,4)\n",
    "    type_cleaner(uncleaned_data,i,5)\n",
    "    type_cleaner(uncleaned_data,i,6)\n",
    "    type_cleaner(uncleaned_data,i,7)\n",
    "for i in range(1,len(uncleaned_data)):\n",
    "    uncleaned_data[i][0] = str(uncleaned_data[i][0]).strip()\n",
    "for i in range(1,len(uncleaned_data)):\n",
    "    if uncleaned_data[i][0] == 'USA':\n",
    "        uncleaned_data[i][0] = 'United States of America'"
   ]
  },
  {
   "cell_type": "code",
   "execution_count": 78,
   "metadata": {},
   "outputs": [],
   "source": [
    "import chart_studio.plotly as py\n",
    "import chart_studio.tools as tls"
   ]
  },
  {
   "cell_type": "code",
   "execution_count": 79,
   "metadata": {},
   "outputs": [],
   "source": [
    "tls.set_credentials_file(username='nkerecha',api_key='usxNdr2K5nTBPiJ9ACCp')"
   ]
  },
  {
   "cell_type": "code",
   "execution_count": 80,
   "metadata": {},
   "outputs": [],
   "source": [
    "column_names= ['Country_Other','Total_Cases','New_Cases','Total_Deaths','New_Deaths','Total_Recovered',\n",
    "               'Active_Cases','Serious_Critical','Total_Cases/1M_pop','Total_Deaths 1m/pop','1st Case']\n",
    "df = pd.DataFrame(uncleaned_data[1:],columns =column_names)"
   ]
  },
  {
   "cell_type": "code",
   "execution_count": 81,
   "metadata": {},
   "outputs": [],
   "source": [
    "df_country_data = df.filter(['Total_Cases','New_Cases','Total_Deaths','New_Deaths','Total_Recovered',\n",
    "               'Active_Cases','Serious_Critical','Total_Cases/1M_pop'], axis=1)\n",
    "df_country_names = pd.DataFrame(df.astype(str)['Country_Other'])\n",
    "data = pd.concat([df_country_names, df_country_data],axis = 1)"
   ]
  },
  {
   "cell_type": "code",
   "execution_count": 82,
   "metadata": {},
   "outputs": [],
   "source": [
    "from shapely.geometry import Point, LineString, Polygon, MultiPolygon\n",
    "import matplotlib.pyplot as plt\n",
    "import numpy as np\n",
    "import pandas as pd\n",
    "import geopandas\n",
    "import math"
   ]
  },
  {
   "cell_type": "code",
   "execution_count": 83,
   "metadata": {},
   "outputs": [],
   "source": [
    "world = geopandas.read_file(geopandas.datasets.get_path('naturalearth_lowres'))"
   ]
  },
  {
   "cell_type": "code",
   "execution_count": 90,
   "metadata": {},
   "outputs": [],
   "source": [
    "data['log_data_cases'] = None\n",
    "for i in range(0,len(data['Total_Cases'])):\n",
    "    value = copy.deepcopy(data['Total_Cases'].loc[i])\n",
    "    returned = int(math.log(value))\n",
    "    data['log_data_cases'].loc[i] = copy.deepcopy(returned)"
   ]
  },
  {
   "cell_type": "code",
   "execution_count": 85,
   "metadata": {},
   "outputs": [],
   "source": [
    "merged_inner = pd.merge(left=world, right=data, left_on=world.name, right_on=data.Country_Other)"
   ]
  },
  {
   "cell_type": "code",
   "execution_count": 89,
   "metadata": {},
   "outputs": [
    {
     "data": {
      "application/vnd.plotly.v1+json": {
       "config": {
        "plotlyServerURL": "https://plot.ly"
       },
       "data": [
        {
         "autocolorscale": true,
         "colorbar": {
          "title": {
           "text": "Log of<br>Total Covid 19 Cases"
          }
         },
         "colorscale": [
          [
           0,
           "#440154"
          ],
          [
           0.1111111111111111,
           "#482878"
          ],
          [
           0.2222222222222222,
           "#3e4989"
          ],
          [
           0.3333333333333333,
           "#31688e"
          ],
          [
           0.4444444444444444,
           "#26828e"
          ],
          [
           0.5555555555555556,
           "#1f9e89"
          ],
          [
           0.6666666666666666,
           "#35b779"
          ],
          [
           0.7777777777777778,
           "#6ece58"
          ],
          [
           0.8888888888888888,
           "#b5de2b"
          ],
          [
           1,
           "#fde725"
          ]
         ],
         "locations": [
          "FJI",
          "FJI",
          "TZA",
          "TZA",
          "CAN",
          "CAN",
          "USA",
          "USA",
          "KAZ",
          "KAZ",
          "UZB",
          "UZB",
          "PNG",
          "PNG",
          "IDN",
          "IDN",
          "ARG",
          "ARG",
          "CHL",
          "CHL",
          "SOM",
          "SOM",
          "KEN",
          "KEN",
          "SDN",
          "SDN",
          "TCD",
          "TCD",
          "HTI",
          "HTI",
          "RUS",
          "RUS",
          "BHS",
          "BHS",
          "-99",
          "-99",
          "GRL",
          "GRL",
          "TLS",
          "TLS",
          "ZAF",
          "ZAF",
          "MEX",
          "MEX",
          "URY",
          "URY",
          "BRA",
          "BRA",
          "BOL",
          "BOL",
          "PER",
          "PER",
          "COL",
          "COL",
          "PAN",
          "PAN",
          "CRI",
          "CRI",
          "NIC",
          "NIC",
          "HND",
          "HND",
          "SLV",
          "SLV",
          "GTM",
          "GTM",
          "BLZ",
          "BLZ",
          "VEN",
          "VEN",
          "GUY",
          "GUY",
          "SUR",
          "SUR",
          "-99",
          "-99",
          "ECU",
          "ECU",
          "JAM",
          "JAM",
          "CUB",
          "CUB",
          "ZWE",
          "ZWE",
          "BWA",
          "BWA",
          "NAM",
          "NAM",
          "SEN",
          "SEN",
          "MLI",
          "MLI",
          "MRT",
          "MRT",
          "BEN",
          "BEN",
          "NER",
          "NER",
          "NGA",
          "NGA",
          "CMR",
          "CMR",
          "TGO",
          "TGO",
          "GHA",
          "GHA",
          "GIN",
          "GIN",
          "GNB",
          "GNB",
          "LBR",
          "LBR",
          "BFA",
          "BFA",
          "COG",
          "COG",
          "GAB",
          "GAB",
          "ZMB",
          "ZMB",
          "MOZ",
          "MOZ",
          "AGO",
          "AGO",
          "ISR",
          "ISR",
          "LBN",
          "LBN",
          "MDG",
          "MDG",
          "PSE",
          "PSE",
          "GMB",
          "GMB",
          "TUN",
          "TUN",
          "DZA",
          "DZA",
          "JOR",
          "JOR",
          "QAT",
          "QAT",
          "KWT",
          "KWT",
          "IRQ",
          "IRQ",
          "OMN",
          "OMN",
          "KHM",
          "KHM",
          "THA",
          "THA",
          "LAO",
          "LAO",
          "MMR",
          "MMR",
          "VNM",
          "VNM",
          "MNG",
          "MNG",
          "IND",
          "IND",
          "BGD",
          "BGD",
          "BTN",
          "BTN",
          "NPL",
          "NPL",
          "PAK",
          "PAK",
          "AFG",
          "AFG",
          "KGZ",
          "KGZ",
          "IRN",
          "IRN",
          "SYR",
          "SYR",
          "ARM",
          "ARM",
          "SWE",
          "SWE",
          "BLR",
          "BLR",
          "UKR",
          "UKR",
          "POL",
          "POL",
          "AUT",
          "AUT",
          "HUN",
          "HUN",
          "MDA",
          "MDA",
          "ROU",
          "ROU",
          "LTU",
          "LTU",
          "LVA",
          "LVA",
          "EST",
          "EST",
          "DEU",
          "DEU",
          "BGR",
          "BGR",
          "GRC",
          "GRC",
          "TUR",
          "TUR",
          "ALB",
          "ALB",
          "HRV",
          "HRV",
          "CHE",
          "CHE",
          "LUX",
          "LUX",
          "BEL",
          "BEL",
          "NLD",
          "NLD",
          "PRT",
          "PRT",
          "ESP",
          "ESP",
          "IRL",
          "IRL",
          "NCL",
          "NCL",
          "NZL",
          "NZL",
          "AUS",
          "AUS",
          "LKA",
          "LKA",
          "CHN",
          "CHN",
          "TWN",
          "TWN",
          "ITA",
          "ITA",
          "DNK",
          "DNK",
          "ISL",
          "ISL",
          "AZE",
          "AZE",
          "GEO",
          "GEO",
          "PHL",
          "PHL",
          "MYS",
          "MYS",
          "BRN",
          "BRN",
          "SVN",
          "SVN",
          "FIN",
          "FIN",
          "SVK",
          "SVK",
          "CZE",
          "CZE",
          "ERI",
          "ERI",
          "JPN",
          "JPN",
          "PRY",
          "PRY",
          "SAU",
          "SAU",
          "CYP",
          "CYP",
          "MAR",
          "MAR",
          "EGY",
          "EGY",
          "LBY",
          "LBY",
          "ETH",
          "ETH",
          "DJI",
          "DJI",
          "UGA",
          "UGA",
          "RWA",
          "RWA",
          "SRB",
          "SRB",
          "MNE",
          "MNE",
          "TTO",
          "TTO"
         ],
         "marker": {
          "line": {
           "color": "darkgray",
           "width": 0.5
          }
         },
         "reversescale": false,
         "text": [
          "Country: Fiji<br>Cases: 5",
          "Country: Fiji<br>Cases: 5",
          "Country: Tanzania<br>Cases: 19",
          "Country: Tanzania<br>Cases: 19",
          "Country: Canada<br>Cases: 7474",
          "Country: Canada<br>Cases: 7448",
          "Country: United States of America<br>Cases: 164266",
          "Country: United States of America<br>Cases: 163844",
          "Country: Kazakhstan<br>Cases: 325",
          "Country: Kazakhstan<br>Cases: 302",
          "Country: Uzbekistan<br>Cases: 150",
          "Country: Uzbekistan<br>Cases: 149",
          "Country: Papua New Guinea<br>Cases: 1",
          "Country: Papua New Guinea<br>Cases: 1",
          "Country: Indonesia<br>Cases: 1414",
          "Country: Indonesia<br>Cases: 1414",
          "Country: Argentina<br>Cases: 966",
          "Country: Argentina<br>Cases: 820",
          "Country: Chile<br>Cases: 2449",
          "Country: Chile<br>Cases: 2449",
          "Country: Somalia<br>Cases: 3",
          "Country: Somalia<br>Cases: 3",
          "Country: Kenya<br>Cases: 50",
          "Country: Kenya<br>Cases: 50",
          "Country: Sudan<br>Cases: 6",
          "Country: Sudan<br>Cases: 6",
          "Country: Chad<br>Cases: 5",
          "Country: Chad<br>Cases: 5",
          "Country: Haiti<br>Cases: 15",
          "Country: Haiti<br>Cases: 15",
          "Country: Russia<br>Cases: 1836",
          "Country: Russia<br>Cases: 1836",
          "Country: Bahamas<br>Cases: 14",
          "Country: Bahamas<br>Cases: 14",
          "Country: Norway<br>Cases: 4462",
          "Country: Norway<br>Cases: 4445",
          "Country: Greenland<br>Cases: 10",
          "Country: Greenland<br>Cases: 10",
          "Country: Timor-Leste<br>Cases: 1",
          "Country: Timor-Leste<br>Cases: 1",
          "Country: South Africa<br>Cases: 1326",
          "Country: South Africa<br>Cases: 1326",
          "Country: Mexico<br>Cases: 1094",
          "Country: Mexico<br>Cases: 993",
          "Country: Uruguay<br>Cases: 320",
          "Country: Uruguay<br>Cases: 320",
          "Country: Brazil<br>Cases: 4661",
          "Country: Brazil<br>Cases: 4630",
          "Country: Bolivia<br>Cases: 107",
          "Country: Bolivia<br>Cases: 97",
          "Country: Peru<br>Cases: 950",
          "Country: Peru<br>Cases: 950",
          "Country: Colombia<br>Cases: 798",
          "Country: Colombia<br>Cases: 798",
          "Country: Panama<br>Cases: 1075",
          "Country: Panama<br>Cases: 1075",
          "Country: Costa Rica<br>Cases: 330",
          "Country: Costa Rica<br>Cases: 330",
          "Country: Nicaragua<br>Cases: 4",
          "Country: Nicaragua<br>Cases: 4",
          "Country: Honduras<br>Cases: 141",
          "Country: Honduras<br>Cases: 139",
          "Country: El Salvador<br>Cases: 32",
          "Country: El Salvador<br>Cases: 30",
          "Country: Guatemala<br>Cases: 36",
          "Country: Guatemala<br>Cases: 36",
          "Country: Belize<br>Cases: 3",
          "Country: Belize<br>Cases: 3",
          "Country: Venezuela<br>Cases: 135",
          "Country: Venezuela<br>Cases: 135",
          "Country: Guyana<br>Cases: 8",
          "Country: Guyana<br>Cases: 8",
          "Country: Suriname<br>Cases: 8",
          "Country: Suriname<br>Cases: 8",
          "Country: France<br>Cases: 44550",
          "Country: France<br>Cases: 44550",
          "Country: Ecuador<br>Cases: 1966",
          "Country: Ecuador<br>Cases: 1966",
          "Country: Jamaica<br>Cases: 36",
          "Country: Jamaica<br>Cases: 36",
          "Country: Cuba<br>Cases: 170",
          "Country: Cuba<br>Cases: 170",
          "Country: Zimbabwe<br>Cases: 7",
          "Country: Zimbabwe<br>Cases: 7",
          "Country: Botswana<br>Cases: 3",
          "Country: Botswana<br>Cases: 3",
          "Country: Namibia<br>Cases: 11",
          "Country: Namibia<br>Cases: 11",
          "Country: Senegal<br>Cases: 162",
          "Country: Senegal<br>Cases: 162",
          "Country: Mali<br>Cases: 25",
          "Country: Mali<br>Cases: 25",
          "Country: Mauritania<br>Cases: 6",
          "Country: Mauritania<br>Cases: 6",
          "Country: Benin<br>Cases: 6",
          "Country: Benin<br>Cases: 6",
          "Country: Niger<br>Cases: 27",
          "Country: Niger<br>Cases: 27",
          "Country: Nigeria<br>Cases: 131",
          "Country: Nigeria<br>Cases: 131",
          "Country: Cameroon<br>Cases: 139",
          "Country: Cameroon<br>Cases: 139",
          "Country: Togo<br>Cases: 30",
          "Country: Togo<br>Cases: 30",
          "Country: Ghana<br>Cases: 152",
          "Country: Ghana<br>Cases: 152",
          "Country: Guinea<br>Cases: 22",
          "Country: Guinea<br>Cases: 22",
          "Country: Guinea-Bissau<br>Cases: 8",
          "Country: Guinea-Bissau<br>Cases: 8",
          "Country: Liberia<br>Cases: 3",
          "Country: Liberia<br>Cases: 3",
          "Country: Burkina Faso<br>Cases: 246",
          "Country: Burkina Faso<br>Cases: 246",
          "Country: Congo<br>Cases: 19",
          "Country: Congo<br>Cases: 19",
          "Country: Gabon<br>Cases: 16",
          "Country: Gabon<br>Cases: 7",
          "Country: Zambia<br>Cases: 35",
          "Country: Zambia<br>Cases: 35",
          "Country: Mozambique<br>Cases: 8",
          "Country: Mozambique<br>Cases: 8",
          "Country: Angola<br>Cases: 7",
          "Country: Angola<br>Cases: 7",
          "Country: Israel<br>Cases: 4831",
          "Country: Israel<br>Cases: 4695",
          "Country: Lebanon<br>Cases: 446",
          "Country: Lebanon<br>Cases: 446",
          "Country: Madagascar<br>Cases: 43",
          "Country: Madagascar<br>Cases: 43",
          "Country: Palestine<br>Cases: 117",
          "Country: Palestine<br>Cases: 117",
          "Country: Gambia<br>Cases: 4",
          "Country: Gambia<br>Cases: 4",
          "Country: Tunisia<br>Cases: 362",
          "Country: Tunisia<br>Cases: 362",
          "Country: Algeria<br>Cases: 584",
          "Country: Algeria<br>Cases: 584",
          "Country: Jordan<br>Cases: 268",
          "Country: Jordan<br>Cases: 268",
          "Country: Qatar<br>Cases: 693",
          "Country: Qatar<br>Cases: 693",
          "Country: Kuwait<br>Cases: 266",
          "Country: Kuwait<br>Cases: 266",
          "Country: Iraq<br>Cases: 630",
          "Country: Iraq<br>Cases: 630",
          "Country: Oman<br>Cases: 179",
          "Country: Oman<br>Cases: 179",
          "Country: Cambodia<br>Cases: 107",
          "Country: Cambodia<br>Cases: 107",
          "Country: Thailand<br>Cases: 1524",
          "Country: Thailand<br>Cases: 1524",
          "Country: Laos<br>Cases: 9",
          "Country: Laos<br>Cases: 8",
          "Country: Myanmar<br>Cases: 14",
          "Country: Myanmar<br>Cases: 14",
          "Country: Vietnam<br>Cases: 204",
          "Country: Vietnam<br>Cases: 204",
          "Country: Mongolia<br>Cases: 12",
          "Country: Mongolia<br>Cases: 12",
          "Country: India<br>Cases: 1251",
          "Country: India<br>Cases: 1251",
          "Country: Bangladesh<br>Cases: 49",
          "Country: Bangladesh<br>Cases: 49",
          "Country: Bhutan<br>Cases: 4",
          "Country: Bhutan<br>Cases: 4",
          "Country: Nepal<br>Cases: 5",
          "Country: Nepal<br>Cases: 5",
          "Country: Pakistan<br>Cases: 1865",
          "Country: Pakistan<br>Cases: 1717",
          "Country: Afghanistan<br>Cases: 170",
          "Country: Afghanistan<br>Cases: 170",
          "Country: Kyrgyzstan<br>Cases: 107",
          "Country: Kyrgyzstan<br>Cases: 94",
          "Country: Iran<br>Cases: 41495",
          "Country: Iran<br>Cases: 41495",
          "Country: Syria<br>Cases: 10",
          "Country: Syria<br>Cases: 10",
          "Country: Armenia<br>Cases: 482",
          "Country: Armenia<br>Cases: 482",
          "Country: Sweden<br>Cases: 4028",
          "Country: Sweden<br>Cases: 4028",
          "Country: Belarus<br>Cases: 152",
          "Country: Belarus<br>Cases: 152",
          "Country: Ukraine<br>Cases: 548",
          "Country: Ukraine<br>Cases: 548",
          "Country: Poland<br>Cases: 2055",
          "Country: Poland<br>Cases: 2055",
          "Country: Austria<br>Cases: 9634",
          "Country: Austria<br>Cases: 9618",
          "Country: Hungary<br>Cases: 447",
          "Country: Hungary<br>Cases: 447",
          "Country: Moldova<br>Cases: 298",
          "Country: Moldova<br>Cases: 298",
          "Country: Romania<br>Cases: 2109",
          "Country: Romania<br>Cases: 2109",
          "Country: Lithuania<br>Cases: 533",
          "Country: Lithuania<br>Cases: 491",
          "Country: Latvia<br>Cases: 376",
          "Country: Latvia<br>Cases: 376",
          "Country: Estonia<br>Cases: 715",
          "Country: Estonia<br>Cases: 715",
          "Country: Germany<br>Cases: 66885",
          "Country: Germany<br>Cases: 66885",
          "Country: Bulgaria<br>Cases: 379",
          "Country: Bulgaria<br>Cases: 359",
          "Country: Greece<br>Cases: 1212",
          "Country: Greece<br>Cases: 1212",
          "Country: Turkey<br>Cases: 10827",
          "Country: Turkey<br>Cases: 10827",
          "Country: Albania<br>Cases: 223",
          "Country: Albania<br>Cases: 223",
          "Country: Croatia<br>Cases: 790",
          "Country: Croatia<br>Cases: 790",
          "Country: Switzerland<br>Cases: 15922",
          "Country: Switzerland<br>Cases: 15922",
          "Country: Luxembourg<br>Cases: 1988",
          "Country: Luxembourg<br>Cases: 1988",
          "Country: Belgium<br>Cases: 11899",
          "Country: Belgium<br>Cases: 11899",
          "Country: Netherlands<br>Cases: 11750",
          "Country: Netherlands<br>Cases: 11750",
          "Country: Portugal<br>Cases: 6408",
          "Country: Portugal<br>Cases: 6408",
          "Country: Spain<br>Cases: 87956",
          "Country: Spain<br>Cases: 87956",
          "Country: Ireland<br>Cases: 2910",
          "Country: Ireland<br>Cases: 2910",
          "Country: New Caledonia<br>Cases: 15",
          "Country: New Caledonia<br>Cases: 15",
          "Country: New Zealand<br>Cases: 647",
          "Country: New Zealand<br>Cases: 589",
          "Country: Australia<br>Cases: 4557",
          "Country: Australia<br>Cases: 4460",
          "Country: Sri Lanka<br>Cases: 122",
          "Country: Sri Lanka<br>Cases: 122",
          "Country: China<br>Cases: 81518",
          "Country: China<br>Cases: 81439",
          "Country: Taiwan<br>Cases: 306",
          "Country: Taiwan<br>Cases: 306",
          "Country: Italy<br>Cases: 101739",
          "Country: Italy<br>Cases: 101739",
          "Country: Denmark<br>Cases: 2577",
          "Country: Denmark<br>Cases: 2577",
          "Country: Iceland<br>Cases: 1086",
          "Country: Iceland<br>Cases: 1086",
          "Country: Azerbaijan<br>Cases: 273",
          "Country: Azerbaijan<br>Cases: 273",
          "Country: Georgia<br>Cases: 103",
          "Country: Georgia<br>Cases: 103",
          "Country: Philippines<br>Cases: 1546",
          "Country: Philippines<br>Cases: 1546",
          "Country: Malaysia<br>Cases: 2626",
          "Country: Malaysia<br>Cases: 2626",
          "Country: Brunei<br>Cases: 127",
          "Country: Brunei<br>Cases: 127",
          "Country: Slovenia<br>Cases: 756",
          "Country: Slovenia<br>Cases: 756",
          "Country: Finland<br>Cases: 1355",
          "Country: Finland<br>Cases: 1352",
          "Country: Slovakia<br>Cases: 336",
          "Country: Slovakia<br>Cases: 336",
          "Country: Czechia<br>Cases: 3001",
          "Country: Czechia<br>Cases: 3001",
          "Country: Eritrea<br>Cases: 15",
          "Country: Eritrea<br>Cases: 15",
          "Country: Japan<br>Cases: 1953",
          "Country: Japan<br>Cases: 1953",
          "Country: Paraguay<br>Cases: 65",
          "Country: Paraguay<br>Cases: 64",
          "Country: Saudi Arabia<br>Cases: 1453",
          "Country: Saudi Arabia<br>Cases: 1453",
          "Country: Cyprus<br>Cases: 230",
          "Country: Cyprus<br>Cases: 230",
          "Country: Morocco<br>Cases: 556",
          "Country: Morocco<br>Cases: 556",
          "Country: Egypt<br>Cases: 656",
          "Country: Egypt<br>Cases: 656",
          "Country: Libya<br>Cases: 8",
          "Country: Libya<br>Cases: 8",
          "Country: Ethiopia<br>Cases: 23",
          "Country: Ethiopia<br>Cases: 23",
          "Country: Djibouti<br>Cases: 18",
          "Country: Djibouti<br>Cases: 18",
          "Country: Uganda<br>Cases: 33",
          "Country: Uganda<br>Cases: 33",
          "Country: Rwanda<br>Cases: 70",
          "Country: Rwanda<br>Cases: 70",
          "Country: Serbia<br>Cases: 785",
          "Country: Serbia<br>Cases: 785",
          "Country: Montenegro<br>Cases: 105",
          "Country: Montenegro<br>Cases: 91",
          "Country: Trinidad and Tobago<br>Cases: 85",
          "Country: Trinidad and Tobago<br>Cases: 83"
         ],
         "type": "choropleth",
         "z": [
          1,
          1,
          2,
          2,
          8,
          8,
          12,
          12,
          5,
          5,
          5,
          5,
          0,
          0,
          7,
          7,
          6,
          6,
          7,
          7,
          1,
          1,
          3,
          3,
          1,
          1,
          1,
          1,
          2,
          2,
          7,
          7,
          2,
          2,
          8,
          8,
          2,
          2,
          0,
          0,
          7,
          7,
          6,
          6,
          5,
          5,
          8,
          8,
          4,
          4,
          6,
          6,
          6,
          6,
          6,
          6,
          5,
          5,
          1,
          1,
          4,
          4,
          3,
          3,
          3,
          3,
          1,
          1,
          4,
          4,
          2,
          2,
          2,
          2,
          10,
          10,
          7,
          7,
          3,
          3,
          5,
          5,
          1,
          1,
          1,
          1,
          2,
          2,
          5,
          5,
          3,
          3,
          1,
          1,
          1,
          1,
          3,
          3,
          4,
          4,
          4,
          4,
          3,
          3,
          5,
          5,
          3,
          3,
          2,
          2,
          1,
          1,
          5,
          5,
          2,
          2,
          2,
          1,
          3,
          3,
          2,
          2,
          1,
          1,
          8,
          8,
          6,
          6,
          3,
          3,
          4,
          4,
          1,
          1,
          5,
          5,
          6,
          6,
          5,
          5,
          6,
          6,
          5,
          5,
          6,
          6,
          5,
          5,
          4,
          4,
          7,
          7,
          2,
          2,
          2,
          2,
          5,
          5,
          2,
          2,
          7,
          7,
          3,
          3,
          1,
          1,
          1,
          1,
          7,
          7,
          5,
          5,
          4,
          4,
          10,
          10,
          2,
          2,
          6,
          6,
          8,
          8,
          5,
          5,
          6,
          6,
          7,
          7,
          9,
          9,
          6,
          6,
          5,
          5,
          7,
          7,
          6,
          6,
          5,
          5,
          6,
          6,
          11,
          11,
          5,
          5,
          7,
          7,
          9,
          9,
          5,
          5,
          6,
          6,
          9,
          9,
          7,
          7,
          9,
          9,
          9,
          9,
          8,
          8,
          11,
          11,
          7,
          7,
          2,
          2,
          6,
          6,
          8,
          8,
          4,
          4,
          11,
          11,
          5,
          5,
          11,
          11,
          7,
          7,
          6,
          6,
          5,
          5,
          4,
          4,
          7,
          7,
          7,
          7,
          4,
          4,
          6,
          6,
          7,
          7,
          5,
          5,
          8,
          8,
          2,
          2,
          7,
          7,
          4,
          4,
          7,
          7,
          5,
          5,
          6,
          6,
          6,
          6,
          2,
          2,
          3,
          3,
          2,
          2,
          3,
          3,
          4,
          4,
          6,
          6,
          4,
          4,
          4,
          4
         ]
        }
       ],
       "layout": {
        "autosize": false,
        "geo": {
         "showcoastlines": false,
         "showframe": false
        },
        "height": 600,
        "template": {
         "data": {
          "bar": [
           {
            "error_x": {
             "color": "#2a3f5f"
            },
            "error_y": {
             "color": "#2a3f5f"
            },
            "marker": {
             "line": {
              "color": "#E5ECF6",
              "width": 0.5
             }
            },
            "type": "bar"
           }
          ],
          "barpolar": [
           {
            "marker": {
             "line": {
              "color": "#E5ECF6",
              "width": 0.5
             }
            },
            "type": "barpolar"
           }
          ],
          "carpet": [
           {
            "aaxis": {
             "endlinecolor": "#2a3f5f",
             "gridcolor": "white",
             "linecolor": "white",
             "minorgridcolor": "white",
             "startlinecolor": "#2a3f5f"
            },
            "baxis": {
             "endlinecolor": "#2a3f5f",
             "gridcolor": "white",
             "linecolor": "white",
             "minorgridcolor": "white",
             "startlinecolor": "#2a3f5f"
            },
            "type": "carpet"
           }
          ],
          "choropleth": [
           {
            "colorbar": {
             "outlinewidth": 0,
             "ticks": ""
            },
            "type": "choropleth"
           }
          ],
          "contour": [
           {
            "colorbar": {
             "outlinewidth": 0,
             "ticks": ""
            },
            "colorscale": [
             [
              0,
              "#0d0887"
             ],
             [
              0.1111111111111111,
              "#46039f"
             ],
             [
              0.2222222222222222,
              "#7201a8"
             ],
             [
              0.3333333333333333,
              "#9c179e"
             ],
             [
              0.4444444444444444,
              "#bd3786"
             ],
             [
              0.5555555555555556,
              "#d8576b"
             ],
             [
              0.6666666666666666,
              "#ed7953"
             ],
             [
              0.7777777777777778,
              "#fb9f3a"
             ],
             [
              0.8888888888888888,
              "#fdca26"
             ],
             [
              1,
              "#f0f921"
             ]
            ],
            "type": "contour"
           }
          ],
          "contourcarpet": [
           {
            "colorbar": {
             "outlinewidth": 0,
             "ticks": ""
            },
            "type": "contourcarpet"
           }
          ],
          "heatmap": [
           {
            "colorbar": {
             "outlinewidth": 0,
             "ticks": ""
            },
            "colorscale": [
             [
              0,
              "#0d0887"
             ],
             [
              0.1111111111111111,
              "#46039f"
             ],
             [
              0.2222222222222222,
              "#7201a8"
             ],
             [
              0.3333333333333333,
              "#9c179e"
             ],
             [
              0.4444444444444444,
              "#bd3786"
             ],
             [
              0.5555555555555556,
              "#d8576b"
             ],
             [
              0.6666666666666666,
              "#ed7953"
             ],
             [
              0.7777777777777778,
              "#fb9f3a"
             ],
             [
              0.8888888888888888,
              "#fdca26"
             ],
             [
              1,
              "#f0f921"
             ]
            ],
            "type": "heatmap"
           }
          ],
          "heatmapgl": [
           {
            "colorbar": {
             "outlinewidth": 0,
             "ticks": ""
            },
            "colorscale": [
             [
              0,
              "#0d0887"
             ],
             [
              0.1111111111111111,
              "#46039f"
             ],
             [
              0.2222222222222222,
              "#7201a8"
             ],
             [
              0.3333333333333333,
              "#9c179e"
             ],
             [
              0.4444444444444444,
              "#bd3786"
             ],
             [
              0.5555555555555556,
              "#d8576b"
             ],
             [
              0.6666666666666666,
              "#ed7953"
             ],
             [
              0.7777777777777778,
              "#fb9f3a"
             ],
             [
              0.8888888888888888,
              "#fdca26"
             ],
             [
              1,
              "#f0f921"
             ]
            ],
            "type": "heatmapgl"
           }
          ],
          "histogram": [
           {
            "marker": {
             "colorbar": {
              "outlinewidth": 0,
              "ticks": ""
             }
            },
            "type": "histogram"
           }
          ],
          "histogram2d": [
           {
            "colorbar": {
             "outlinewidth": 0,
             "ticks": ""
            },
            "colorscale": [
             [
              0,
              "#0d0887"
             ],
             [
              0.1111111111111111,
              "#46039f"
             ],
             [
              0.2222222222222222,
              "#7201a8"
             ],
             [
              0.3333333333333333,
              "#9c179e"
             ],
             [
              0.4444444444444444,
              "#bd3786"
             ],
             [
              0.5555555555555556,
              "#d8576b"
             ],
             [
              0.6666666666666666,
              "#ed7953"
             ],
             [
              0.7777777777777778,
              "#fb9f3a"
             ],
             [
              0.8888888888888888,
              "#fdca26"
             ],
             [
              1,
              "#f0f921"
             ]
            ],
            "type": "histogram2d"
           }
          ],
          "histogram2dcontour": [
           {
            "colorbar": {
             "outlinewidth": 0,
             "ticks": ""
            },
            "colorscale": [
             [
              0,
              "#0d0887"
             ],
             [
              0.1111111111111111,
              "#46039f"
             ],
             [
              0.2222222222222222,
              "#7201a8"
             ],
             [
              0.3333333333333333,
              "#9c179e"
             ],
             [
              0.4444444444444444,
              "#bd3786"
             ],
             [
              0.5555555555555556,
              "#d8576b"
             ],
             [
              0.6666666666666666,
              "#ed7953"
             ],
             [
              0.7777777777777778,
              "#fb9f3a"
             ],
             [
              0.8888888888888888,
              "#fdca26"
             ],
             [
              1,
              "#f0f921"
             ]
            ],
            "type": "histogram2dcontour"
           }
          ],
          "mesh3d": [
           {
            "colorbar": {
             "outlinewidth": 0,
             "ticks": ""
            },
            "type": "mesh3d"
           }
          ],
          "parcoords": [
           {
            "line": {
             "colorbar": {
              "outlinewidth": 0,
              "ticks": ""
             }
            },
            "type": "parcoords"
           }
          ],
          "pie": [
           {
            "automargin": true,
            "type": "pie"
           }
          ],
          "scatter": [
           {
            "marker": {
             "colorbar": {
              "outlinewidth": 0,
              "ticks": ""
             }
            },
            "type": "scatter"
           }
          ],
          "scatter3d": [
           {
            "line": {
             "colorbar": {
              "outlinewidth": 0,
              "ticks": ""
             }
            },
            "marker": {
             "colorbar": {
              "outlinewidth": 0,
              "ticks": ""
             }
            },
            "type": "scatter3d"
           }
          ],
          "scattercarpet": [
           {
            "marker": {
             "colorbar": {
              "outlinewidth": 0,
              "ticks": ""
             }
            },
            "type": "scattercarpet"
           }
          ],
          "scattergeo": [
           {
            "marker": {
             "colorbar": {
              "outlinewidth": 0,
              "ticks": ""
             }
            },
            "type": "scattergeo"
           }
          ],
          "scattergl": [
           {
            "marker": {
             "colorbar": {
              "outlinewidth": 0,
              "ticks": ""
             }
            },
            "type": "scattergl"
           }
          ],
          "scattermapbox": [
           {
            "marker": {
             "colorbar": {
              "outlinewidth": 0,
              "ticks": ""
             }
            },
            "type": "scattermapbox"
           }
          ],
          "scatterpolar": [
           {
            "marker": {
             "colorbar": {
              "outlinewidth": 0,
              "ticks": ""
             }
            },
            "type": "scatterpolar"
           }
          ],
          "scatterpolargl": [
           {
            "marker": {
             "colorbar": {
              "outlinewidth": 0,
              "ticks": ""
             }
            },
            "type": "scatterpolargl"
           }
          ],
          "scatterternary": [
           {
            "marker": {
             "colorbar": {
              "outlinewidth": 0,
              "ticks": ""
             }
            },
            "type": "scatterternary"
           }
          ],
          "surface": [
           {
            "colorbar": {
             "outlinewidth": 0,
             "ticks": ""
            },
            "colorscale": [
             [
              0,
              "#0d0887"
             ],
             [
              0.1111111111111111,
              "#46039f"
             ],
             [
              0.2222222222222222,
              "#7201a8"
             ],
             [
              0.3333333333333333,
              "#9c179e"
             ],
             [
              0.4444444444444444,
              "#bd3786"
             ],
             [
              0.5555555555555556,
              "#d8576b"
             ],
             [
              0.6666666666666666,
              "#ed7953"
             ],
             [
              0.7777777777777778,
              "#fb9f3a"
             ],
             [
              0.8888888888888888,
              "#fdca26"
             ],
             [
              1,
              "#f0f921"
             ]
            ],
            "type": "surface"
           }
          ],
          "table": [
           {
            "cells": {
             "fill": {
              "color": "#EBF0F8"
             },
             "line": {
              "color": "white"
             }
            },
            "header": {
             "fill": {
              "color": "#C8D4E3"
             },
             "line": {
              "color": "white"
             }
            },
            "type": "table"
           }
          ]
         },
         "layout": {
          "annotationdefaults": {
           "arrowcolor": "#2a3f5f",
           "arrowhead": 0,
           "arrowwidth": 1
          },
          "coloraxis": {
           "colorbar": {
            "outlinewidth": 0,
            "ticks": ""
           }
          },
          "colorscale": {
           "diverging": [
            [
             0,
             "#8e0152"
            ],
            [
             0.1,
             "#c51b7d"
            ],
            [
             0.2,
             "#de77ae"
            ],
            [
             0.3,
             "#f1b6da"
            ],
            [
             0.4,
             "#fde0ef"
            ],
            [
             0.5,
             "#f7f7f7"
            ],
            [
             0.6,
             "#e6f5d0"
            ],
            [
             0.7,
             "#b8e186"
            ],
            [
             0.8,
             "#7fbc41"
            ],
            [
             0.9,
             "#4d9221"
            ],
            [
             1,
             "#276419"
            ]
           ],
           "sequential": [
            [
             0,
             "#0d0887"
            ],
            [
             0.1111111111111111,
             "#46039f"
            ],
            [
             0.2222222222222222,
             "#7201a8"
            ],
            [
             0.3333333333333333,
             "#9c179e"
            ],
            [
             0.4444444444444444,
             "#bd3786"
            ],
            [
             0.5555555555555556,
             "#d8576b"
            ],
            [
             0.6666666666666666,
             "#ed7953"
            ],
            [
             0.7777777777777778,
             "#fb9f3a"
            ],
            [
             0.8888888888888888,
             "#fdca26"
            ],
            [
             1,
             "#f0f921"
            ]
           ],
           "sequentialminus": [
            [
             0,
             "#0d0887"
            ],
            [
             0.1111111111111111,
             "#46039f"
            ],
            [
             0.2222222222222222,
             "#7201a8"
            ],
            [
             0.3333333333333333,
             "#9c179e"
            ],
            [
             0.4444444444444444,
             "#bd3786"
            ],
            [
             0.5555555555555556,
             "#d8576b"
            ],
            [
             0.6666666666666666,
             "#ed7953"
            ],
            [
             0.7777777777777778,
             "#fb9f3a"
            ],
            [
             0.8888888888888888,
             "#fdca26"
            ],
            [
             1,
             "#f0f921"
            ]
           ]
          },
          "colorway": [
           "#636efa",
           "#EF553B",
           "#00cc96",
           "#ab63fa",
           "#FFA15A",
           "#19d3f3",
           "#FF6692",
           "#B6E880",
           "#FF97FF",
           "#FECB52"
          ],
          "font": {
           "color": "#2a3f5f"
          },
          "geo": {
           "bgcolor": "white",
           "lakecolor": "white",
           "landcolor": "#E5ECF6",
           "showlakes": true,
           "showland": true,
           "subunitcolor": "white"
          },
          "hoverlabel": {
           "align": "left"
          },
          "hovermode": "closest",
          "mapbox": {
           "style": "light"
          },
          "paper_bgcolor": "white",
          "plot_bgcolor": "#E5ECF6",
          "polar": {
           "angularaxis": {
            "gridcolor": "white",
            "linecolor": "white",
            "ticks": ""
           },
           "bgcolor": "#E5ECF6",
           "radialaxis": {
            "gridcolor": "white",
            "linecolor": "white",
            "ticks": ""
           }
          },
          "scene": {
           "xaxis": {
            "backgroundcolor": "#E5ECF6",
            "gridcolor": "white",
            "gridwidth": 2,
            "linecolor": "white",
            "showbackground": true,
            "ticks": "",
            "zerolinecolor": "white"
           },
           "yaxis": {
            "backgroundcolor": "#E5ECF6",
            "gridcolor": "white",
            "gridwidth": 2,
            "linecolor": "white",
            "showbackground": true,
            "ticks": "",
            "zerolinecolor": "white"
           },
           "zaxis": {
            "backgroundcolor": "#E5ECF6",
            "gridcolor": "white",
            "gridwidth": 2,
            "linecolor": "white",
            "showbackground": true,
            "ticks": "",
            "zerolinecolor": "white"
           }
          },
          "shapedefaults": {
           "line": {
            "color": "#2a3f5f"
           }
          },
          "ternary": {
           "aaxis": {
            "gridcolor": "white",
            "linecolor": "white",
            "ticks": ""
           },
           "baxis": {
            "gridcolor": "white",
            "linecolor": "white",
            "ticks": ""
           },
           "bgcolor": "#E5ECF6",
           "caxis": {
            "gridcolor": "white",
            "linecolor": "white",
            "ticks": ""
           }
          },
          "title": {
           "x": 0.05
          },
          "xaxis": {
           "automargin": true,
           "gridcolor": "white",
           "linecolor": "white",
           "ticks": "",
           "title": {
            "standoff": 15
           },
           "zerolinecolor": "white",
           "zerolinewidth": 2
          },
          "yaxis": {
           "automargin": true,
           "gridcolor": "white",
           "linecolor": "white",
           "ticks": "",
           "title": {
            "standoff": 15
           },
           "zerolinecolor": "white",
           "zerolinewidth": 2
          }
         }
        },
        "title": {
         "text": "Total COVID 19 Cases Per Country"
        },
        "width": 1100
       }
      },
      "image/png": "[encoded data removed]",
      "text/html": [
       "<div>\n",
       "        \n",
       "        \n",
       "            <div id=\"9506eb22-2c8c-4cb2-bc15-e82effdd26c0\" class=\"plotly-graph-div\" style=\"height:600px; width:1100px;\"></div>\n",
       "            <script type=\"text/javascript\">\n",
       "                require([\"plotly\"], function(Plotly) {\n",
       "                    window.PLOTLYENV=window.PLOTLYENV || {};\n",
       "                    \n",
       "                if (document.getElementById(\"9506eb22-2c8c-4cb2-bc15-e82effdd26c0\")) {\n",
       "                    Plotly.newPlot(\n",
       "                        '9506eb22-2c8c-4cb2-bc15-e82effdd26c0',\n",
       "                        [{\"autocolorscale\": true, \"colorbar\": {\"title\": {\"text\": \"Log of<br>Total Covid 19 Cases\"}}, \"colorscale\": [[0.0, \"#440154\"], [0.1111111111111111, \"#482878\"], [0.2222222222222222, \"#3e4989\"], [0.3333333333333333, \"#31688e\"], [0.4444444444444444, \"#26828e\"], [0.5555555555555556, \"#1f9e89\"], [0.6666666666666666, \"#35b779\"], [0.7777777777777778, \"#6ece58\"], [0.8888888888888888, \"#b5de2b\"], [1.0, \"#fde725\"]], \"locations\": [\"FJI\", \"FJI\", \"TZA\", \"TZA\", \"CAN\", \"CAN\", \"USA\", \"USA\", \"KAZ\", \"KAZ\", \"UZB\", \"UZB\", \"PNG\", \"PNG\", \"IDN\", \"IDN\", \"ARG\", \"ARG\", \"CHL\", \"CHL\", \"SOM\", \"SOM\", \"KEN\", \"KEN\", \"SDN\", \"SDN\", \"TCD\", \"TCD\", \"HTI\", \"HTI\", \"RUS\", \"RUS\", \"BHS\", \"BHS\", \"-99\", \"-99\", \"GRL\", \"GRL\", \"TLS\", \"TLS\", \"ZAF\", \"ZAF\", \"MEX\", \"MEX\", \"URY\", \"URY\", \"BRA\", \"BRA\", \"BOL\", \"BOL\", \"PER\", \"PER\", \"COL\", \"COL\", \"PAN\", \"PAN\", \"CRI\", \"CRI\", \"NIC\", \"NIC\", \"HND\", \"HND\", \"SLV\", \"SLV\", \"GTM\", \"GTM\", \"BLZ\", \"BLZ\", \"VEN\", \"VEN\", \"GUY\", \"GUY\", \"SUR\", \"SUR\", \"-99\", \"-99\", \"ECU\", \"ECU\", \"JAM\", \"JAM\", \"CUB\", \"CUB\", \"ZWE\", \"ZWE\", \"BWA\", \"BWA\", \"NAM\", \"NAM\", \"SEN\", \"SEN\", \"MLI\", \"MLI\", \"MRT\", \"MRT\", \"BEN\", \"BEN\", \"NER\", \"NER\", \"NGA\", \"NGA\", \"CMR\", \"CMR\", \"TGO\", \"TGO\", \"GHA\", \"GHA\", \"GIN\", \"GIN\", \"GNB\", \"GNB\", \"LBR\", \"LBR\", \"BFA\", \"BFA\", \"COG\", \"COG\", \"GAB\", \"GAB\", \"ZMB\", \"ZMB\", \"MOZ\", \"MOZ\", \"AGO\", \"AGO\", \"ISR\", \"ISR\", \"LBN\", \"LBN\", \"MDG\", \"MDG\", \"PSE\", \"PSE\", \"GMB\", \"GMB\", \"TUN\", \"TUN\", \"DZA\", \"DZA\", \"JOR\", \"JOR\", \"QAT\", \"QAT\", \"KWT\", \"KWT\", \"IRQ\", \"IRQ\", \"OMN\", \"OMN\", \"KHM\", \"KHM\", \"THA\", \"THA\", \"LAO\", \"LAO\", \"MMR\", \"MMR\", \"VNM\", \"VNM\", \"MNG\", \"MNG\", \"IND\", \"IND\", \"BGD\", \"BGD\", \"BTN\", \"BTN\", \"NPL\", \"NPL\", \"PAK\", \"PAK\", \"AFG\", \"AFG\", \"KGZ\", \"KGZ\", \"IRN\", \"IRN\", \"SYR\", \"SYR\", \"ARM\", \"ARM\", \"SWE\", \"SWE\", \"BLR\", \"BLR\", \"UKR\", \"UKR\", \"POL\", \"POL\", \"AUT\", \"AUT\", \"HUN\", \"HUN\", \"MDA\", \"MDA\", \"ROU\", \"ROU\", \"LTU\", \"LTU\", \"LVA\", \"LVA\", \"EST\", \"EST\", \"DEU\", \"DEU\", \"BGR\", \"BGR\", \"GRC\", \"GRC\", \"TUR\", \"TUR\", \"ALB\", \"ALB\", \"HRV\", \"HRV\", \"CHE\", \"CHE\", \"LUX\", \"LUX\", \"BEL\", \"BEL\", \"NLD\", \"NLD\", \"PRT\", \"PRT\", \"ESP\", \"ESP\", \"IRL\", \"IRL\", \"NCL\", \"NCL\", \"NZL\", \"NZL\", \"AUS\", \"AUS\", \"LKA\", \"LKA\", \"CHN\", \"CHN\", \"TWN\", \"TWN\", \"ITA\", \"ITA\", \"DNK\", \"DNK\", \"ISL\", \"ISL\", \"AZE\", \"AZE\", \"GEO\", \"GEO\", \"PHL\", \"PHL\", \"MYS\", \"MYS\", \"BRN\", \"BRN\", \"SVN\", \"SVN\", \"FIN\", \"FIN\", \"SVK\", \"SVK\", \"CZE\", \"CZE\", \"ERI\", \"ERI\", \"JPN\", \"JPN\", \"PRY\", \"PRY\", \"SAU\", \"SAU\", \"CYP\", \"CYP\", \"MAR\", \"MAR\", \"EGY\", \"EGY\", \"LBY\", \"LBY\", \"ETH\", \"ETH\", \"DJI\", \"DJI\", \"UGA\", \"UGA\", \"RWA\", \"RWA\", \"SRB\", \"SRB\", \"MNE\", \"MNE\", \"TTO\", \"TTO\"], \"marker\": {\"line\": {\"color\": \"darkgray\", \"width\": 0.5}}, \"reversescale\": false, \"text\": [\"Country: Fiji<br>Cases: 5\", \"Country: Fiji<br>Cases: 5\", \"Country: Tanzania<br>Cases: 19\", \"Country: Tanzania<br>Cases: 19\", \"Country: Canada<br>Cases: 7474\", \"Country: Canada<br>Cases: 7448\", \"Country: United States of America<br>Cases: 164266\", \"Country: United States of America<br>Cases: 163844\", \"Country: Kazakhstan<br>Cases: 325\", \"Country: Kazakhstan<br>Cases: 302\", \"Country: Uzbekistan<br>Cases: 150\", \"Country: Uzbekistan<br>Cases: 149\", \"Country: Papua New Guinea<br>Cases: 1\", \"Country: Papua New Guinea<br>Cases: 1\", \"Country: Indonesia<br>Cases: 1414\", \"Country: Indonesia<br>Cases: 1414\", \"Country: Argentina<br>Cases: 966\", \"Country: Argentina<br>Cases: 820\", \"Country: Chile<br>Cases: 2449\", \"Country: Chile<br>Cases: 2449\", \"Country: Somalia<br>Cases: 3\", \"Country: Somalia<br>Cases: 3\", \"Country: Kenya<br>Cases: 50\", \"Country: Kenya<br>Cases: 50\", \"Country: Sudan<br>Cases: 6\", \"Country: Sudan<br>Cases: 6\", \"Country: Chad<br>Cases: 5\", \"Country: Chad<br>Cases: 5\", \"Country: Haiti<br>Cases: 15\", \"Country: Haiti<br>Cases: 15\", \"Country: Russia<br>Cases: 1836\", \"Country: Russia<br>Cases: 1836\", \"Country: Bahamas<br>Cases: 14\", \"Country: Bahamas<br>Cases: 14\", \"Country: Norway<br>Cases: 4462\", \"Country: Norway<br>Cases: 4445\", \"Country: Greenland<br>Cases: 10\", \"Country: Greenland<br>Cases: 10\", \"Country: Timor-Leste<br>Cases: 1\", \"Country: Timor-Leste<br>Cases: 1\", \"Country: South Africa<br>Cases: 1326\", \"Country: South Africa<br>Cases: 1326\", \"Country: Mexico<br>Cases: 1094\", \"Country: Mexico<br>Cases: 993\", \"Country: Uruguay<br>Cases: 320\", \"Country: Uruguay<br>Cases: 320\", \"Country: Brazil<br>Cases: 4661\", \"Country: Brazil<br>Cases: 4630\", \"Country: Bolivia<br>Cases: 107\", \"Country: Bolivia<br>Cases: 97\", \"Country: Peru<br>Cases: 950\", \"Country: Peru<br>Cases: 950\", \"Country: Colombia<br>Cases: 798\", \"Country: Colombia<br>Cases: 798\", \"Country: Panama<br>Cases: 1075\", \"Country: Panama<br>Cases: 1075\", \"Country: Costa Rica<br>Cases: 330\", \"Country: Costa Rica<br>Cases: 330\", \"Country: Nicaragua<br>Cases: 4\", \"Country: Nicaragua<br>Cases: 4\", \"Country: Honduras<br>Cases: 141\", \"Country: Honduras<br>Cases: 139\", \"Country: El Salvador<br>Cases: 32\", \"Country: El Salvador<br>Cases: 30\", \"Country: Guatemala<br>Cases: 36\", \"Country: Guatemala<br>Cases: 36\", \"Country: Belize<br>Cases: 3\", \"Country: Belize<br>Cases: 3\", \"Country: Venezuela<br>Cases: 135\", \"Country: Venezuela<br>Cases: 135\", \"Country: Guyana<br>Cases: 8\", \"Country: Guyana<br>Cases: 8\", \"Country: Suriname<br>Cases: 8\", \"Country: Suriname<br>Cases: 8\", \"Country: France<br>Cases: 44550\", \"Country: France<br>Cases: 44550\", \"Country: Ecuador<br>Cases: 1966\", \"Country: Ecuador<br>Cases: 1966\", \"Country: Jamaica<br>Cases: 36\", \"Country: Jamaica<br>Cases: 36\", \"Country: Cuba<br>Cases: 170\", \"Country: Cuba<br>Cases: 170\", \"Country: Zimbabwe<br>Cases: 7\", \"Country: Zimbabwe<br>Cases: 7\", \"Country: Botswana<br>Cases: 3\", \"Country: Botswana<br>Cases: 3\", \"Country: Namibia<br>Cases: 11\", \"Country: Namibia<br>Cases: 11\", \"Country: Senegal<br>Cases: 162\", \"Country: Senegal<br>Cases: 162\", \"Country: Mali<br>Cases: 25\", \"Country: Mali<br>Cases: 25\", \"Country: Mauritania<br>Cases: 6\", \"Country: Mauritania<br>Cases: 6\", \"Country: Benin<br>Cases: 6\", \"Country: Benin<br>Cases: 6\", \"Country: Niger<br>Cases: 27\", \"Country: Niger<br>Cases: 27\", \"Country: Nigeria<br>Cases: 131\", \"Country: Nigeria<br>Cases: 131\", \"Country: Cameroon<br>Cases: 139\", \"Country: Cameroon<br>Cases: 139\", \"Country: Togo<br>Cases: 30\", \"Country: Togo<br>Cases: 30\", \"Country: Ghana<br>Cases: 152\", \"Country: Ghana<br>Cases: 152\", \"Country: Guinea<br>Cases: 22\", \"Country: Guinea<br>Cases: 22\", \"Country: Guinea-Bissau<br>Cases: 8\", \"Country: Guinea-Bissau<br>Cases: 8\", \"Country: Liberia<br>Cases: 3\", \"Country: Liberia<br>Cases: 3\", \"Country: Burkina Faso<br>Cases: 246\", \"Country: Burkina Faso<br>Cases: 246\", \"Country: Congo<br>Cases: 19\", \"Country: Congo<br>Cases: 19\", \"Country: Gabon<br>Cases: 16\", \"Country: Gabon<br>Cases: 7\", \"Country: Zambia<br>Cases: 35\", \"Country: Zambia<br>Cases: 35\", \"Country: Mozambique<br>Cases: 8\", \"Country: Mozambique<br>Cases: 8\", \"Country: Angola<br>Cases: 7\", \"Country: Angola<br>Cases: 7\", \"Country: Israel<br>Cases: 4831\", \"Country: Israel<br>Cases: 4695\", \"Country: Lebanon<br>Cases: 446\", \"Country: Lebanon<br>Cases: 446\", \"Country: Madagascar<br>Cases: 43\", \"Country: Madagascar<br>Cases: 43\", \"Country: Palestine<br>Cases: 117\", \"Country: Palestine<br>Cases: 117\", \"Country: Gambia<br>Cases: 4\", \"Country: Gambia<br>Cases: 4\", \"Country: Tunisia<br>Cases: 362\", \"Country: Tunisia<br>Cases: 362\", \"Country: Algeria<br>Cases: 584\", \"Country: Algeria<br>Cases: 584\", \"Country: Jordan<br>Cases: 268\", \"Country: Jordan<br>Cases: 268\", \"Country: Qatar<br>Cases: 693\", \"Country: Qatar<br>Cases: 693\", \"Country: Kuwait<br>Cases: 266\", \"Country: Kuwait<br>Cases: 266\", \"Country: Iraq<br>Cases: 630\", \"Country: Iraq<br>Cases: 630\", \"Country: Oman<br>Cases: 179\", \"Country: Oman<br>Cases: 179\", \"Country: Cambodia<br>Cases: 107\", \"Country: Cambodia<br>Cases: 107\", \"Country: Thailand<br>Cases: 1524\", \"Country: Thailand<br>Cases: 1524\", \"Country: Laos<br>Cases: 9\", \"Country: Laos<br>Cases: 8\", \"Country: Myanmar<br>Cases: 14\", \"Country: Myanmar<br>Cases: 14\", \"Country: Vietnam<br>Cases: 204\", \"Country: Vietnam<br>Cases: 204\", \"Country: Mongolia<br>Cases: 12\", \"Country: Mongolia<br>Cases: 12\", \"Country: India<br>Cases: 1251\", \"Country: India<br>Cases: 1251\", \"Country: Bangladesh<br>Cases: 49\", \"Country: Bangladesh<br>Cases: 49\", \"Country: Bhutan<br>Cases: 4\", \"Country: Bhutan<br>Cases: 4\", \"Country: Nepal<br>Cases: 5\", \"Country: Nepal<br>Cases: 5\", \"Country: Pakistan<br>Cases: 1865\", \"Country: Pakistan<br>Cases: 1717\", \"Country: Afghanistan<br>Cases: 170\", \"Country: Afghanistan<br>Cases: 170\", \"Country: Kyrgyzstan<br>Cases: 107\", \"Country: Kyrgyzstan<br>Cases: 94\", \"Country: Iran<br>Cases: 41495\", \"Country: Iran<br>Cases: 41495\", \"Country: Syria<br>Cases: 10\", \"Country: Syria<br>Cases: 10\", \"Country: Armenia<br>Cases: 482\", \"Country: Armenia<br>Cases: 482\", \"Country: Sweden<br>Cases: 4028\", \"Country: Sweden<br>Cases: 4028\", \"Country: Belarus<br>Cases: 152\", \"Country: Belarus<br>Cases: 152\", \"Country: Ukraine<br>Cases: 548\", \"Country: Ukraine<br>Cases: 548\", \"Country: Poland<br>Cases: 2055\", \"Country: Poland<br>Cases: 2055\", \"Country: Austria<br>Cases: 9634\", \"Country: Austria<br>Cases: 9618\", \"Country: Hungary<br>Cases: 447\", \"Country: Hungary<br>Cases: 447\", \"Country: Moldova<br>Cases: 298\", \"Country: Moldova<br>Cases: 298\", \"Country: Romania<br>Cases: 2109\", \"Country: Romania<br>Cases: 2109\", \"Country: Lithuania<br>Cases: 533\", \"Country: Lithuania<br>Cases: 491\", \"Country: Latvia<br>Cases: 376\", \"Country: Latvia<br>Cases: 376\", \"Country: Estonia<br>Cases: 715\", \"Country: Estonia<br>Cases: 715\", \"Country: Germany<br>Cases: 66885\", \"Country: Germany<br>Cases: 66885\", \"Country: Bulgaria<br>Cases: 379\", \"Country: Bulgaria<br>Cases: 359\", \"Country: Greece<br>Cases: 1212\", \"Country: Greece<br>Cases: 1212\", \"Country: Turkey<br>Cases: 10827\", \"Country: Turkey<br>Cases: 10827\", \"Country: Albania<br>Cases: 223\", \"Country: Albania<br>Cases: 223\", \"Country: Croatia<br>Cases: 790\", \"Country: Croatia<br>Cases: 790\", \"Country: Switzerland<br>Cases: 15922\", \"Country: Switzerland<br>Cases: 15922\", \"Country: Luxembourg<br>Cases: 1988\", \"Country: Luxembourg<br>Cases: 1988\", \"Country: Belgium<br>Cases: 11899\", \"Country: Belgium<br>Cases: 11899\", \"Country: Netherlands<br>Cases: 11750\", \"Country: Netherlands<br>Cases: 11750\", \"Country: Portugal<br>Cases: 6408\", \"Country: Portugal<br>Cases: 6408\", \"Country: Spain<br>Cases: 87956\", \"Country: Spain<br>Cases: 87956\", \"Country: Ireland<br>Cases: 2910\", \"Country: Ireland<br>Cases: 2910\", \"Country: New Caledonia<br>Cases: 15\", \"Country: New Caledonia<br>Cases: 15\", \"Country: New Zealand<br>Cases: 647\", \"Country: New Zealand<br>Cases: 589\", \"Country: Australia<br>Cases: 4557\", \"Country: Australia<br>Cases: 4460\", \"Country: Sri Lanka<br>Cases: 122\", \"Country: Sri Lanka<br>Cases: 122\", \"Country: China<br>Cases: 81518\", \"Country: China<br>Cases: 81439\", \"Country: Taiwan<br>Cases: 306\", \"Country: Taiwan<br>Cases: 306\", \"Country: Italy<br>Cases: 101739\", \"Country: Italy<br>Cases: 101739\", \"Country: Denmark<br>Cases: 2577\", \"Country: Denmark<br>Cases: 2577\", \"Country: Iceland<br>Cases: 1086\", \"Country: Iceland<br>Cases: 1086\", \"Country: Azerbaijan<br>Cases: 273\", \"Country: Azerbaijan<br>Cases: 273\", \"Country: Georgia<br>Cases: 103\", \"Country: Georgia<br>Cases: 103\", \"Country: Philippines<br>Cases: 1546\", \"Country: Philippines<br>Cases: 1546\", \"Country: Malaysia<br>Cases: 2626\", \"Country: Malaysia<br>Cases: 2626\", \"Country: Brunei<br>Cases: 127\", \"Country: Brunei<br>Cases: 127\", \"Country: Slovenia<br>Cases: 756\", \"Country: Slovenia<br>Cases: 756\", \"Country: Finland<br>Cases: 1355\", \"Country: Finland<br>Cases: 1352\", \"Country: Slovakia<br>Cases: 336\", \"Country: Slovakia<br>Cases: 336\", \"Country: Czechia<br>Cases: 3001\", \"Country: Czechia<br>Cases: 3001\", \"Country: Eritrea<br>Cases: 15\", \"Country: Eritrea<br>Cases: 15\", \"Country: Japan<br>Cases: 1953\", \"Country: Japan<br>Cases: 1953\", \"Country: Paraguay<br>Cases: 65\", \"Country: Paraguay<br>Cases: 64\", \"Country: Saudi Arabia<br>Cases: 1453\", \"Country: Saudi Arabia<br>Cases: 1453\", \"Country: Cyprus<br>Cases: 230\", \"Country: Cyprus<br>Cases: 230\", \"Country: Morocco<br>Cases: 556\", \"Country: Morocco<br>Cases: 556\", \"Country: Egypt<br>Cases: 656\", \"Country: Egypt<br>Cases: 656\", \"Country: Libya<br>Cases: 8\", \"Country: Libya<br>Cases: 8\", \"Country: Ethiopia<br>Cases: 23\", \"Country: Ethiopia<br>Cases: 23\", \"Country: Djibouti<br>Cases: 18\", \"Country: Djibouti<br>Cases: 18\", \"Country: Uganda<br>Cases: 33\", \"Country: Uganda<br>Cases: 33\", \"Country: Rwanda<br>Cases: 70\", \"Country: Rwanda<br>Cases: 70\", \"Country: Serbia<br>Cases: 785\", \"Country: Serbia<br>Cases: 785\", \"Country: Montenegro<br>Cases: 105\", \"Country: Montenegro<br>Cases: 91\", \"Country: Trinidad and Tobago<br>Cases: 85\", \"Country: Trinidad and Tobago<br>Cases: 83\"], \"type\": \"choropleth\", \"z\": [1, 1, 2, 2, 8, 8, 12, 12, 5, 5, 5, 5, 0, 0, 7, 7, 6, 6, 7, 7, 1, 1, 3, 3, 1, 1, 1, 1, 2, 2, 7, 7, 2, 2, 8, 8, 2, 2, 0, 0, 7, 7, 6, 6, 5, 5, 8, 8, 4, 4, 6, 6, 6, 6, 6, 6, 5, 5, 1, 1, 4, 4, 3, 3, 3, 3, 1, 1, 4, 4, 2, 2, 2, 2, 10, 10, 7, 7, 3, 3, 5, 5, 1, 1, 1, 1, 2, 2, 5, 5, 3, 3, 1, 1, 1, 1, 3, 3, 4, 4, 4, 4, 3, 3, 5, 5, 3, 3, 2, 2, 1, 1, 5, 5, 2, 2, 2, 1, 3, 3, 2, 2, 1, 1, 8, 8, 6, 6, 3, 3, 4, 4, 1, 1, 5, 5, 6, 6, 5, 5, 6, 6, 5, 5, 6, 6, 5, 5, 4, 4, 7, 7, 2, 2, 2, 2, 5, 5, 2, 2, 7, 7, 3, 3, 1, 1, 1, 1, 7, 7, 5, 5, 4, 4, 10, 10, 2, 2, 6, 6, 8, 8, 5, 5, 6, 6, 7, 7, 9, 9, 6, 6, 5, 5, 7, 7, 6, 6, 5, 5, 6, 6, 11, 11, 5, 5, 7, 7, 9, 9, 5, 5, 6, 6, 9, 9, 7, 7, 9, 9, 9, 9, 8, 8, 11, 11, 7, 7, 2, 2, 6, 6, 8, 8, 4, 4, 11, 11, 5, 5, 11, 11, 7, 7, 6, 6, 5, 5, 4, 4, 7, 7, 7, 7, 4, 4, 6, 6, 7, 7, 5, 5, 8, 8, 2, 2, 7, 7, 4, 4, 7, 7, 5, 5, 6, 6, 6, 6, 2, 2, 3, 3, 2, 2, 3, 3, 4, 4, 6, 6, 4, 4, 4, 4]}],\n",
       "                        {\"autosize\": false, \"geo\": {\"showcoastlines\": false, \"showframe\": false}, \"height\": 600, \"template\": {\"data\": {\"bar\": [{\"error_x\": {\"color\": \"#2a3f5f\"}, \"error_y\": {\"color\": \"#2a3f5f\"}, \"marker\": {\"line\": {\"color\": \"#E5ECF6\", \"width\": 0.5}}, \"type\": \"bar\"}], \"barpolar\": [{\"marker\": {\"line\": {\"color\": \"#E5ECF6\", \"width\": 0.5}}, \"type\": \"barpolar\"}], \"carpet\": [{\"aaxis\": {\"endlinecolor\": \"#2a3f5f\", \"gridcolor\": \"white\", \"linecolor\": \"white\", \"minorgridcolor\": \"white\", \"startlinecolor\": \"#2a3f5f\"}, \"baxis\": {\"endlinecolor\": \"#2a3f5f\", \"gridcolor\": \"white\", \"linecolor\": \"white\", \"minorgridcolor\": \"white\", \"startlinecolor\": \"#2a3f5f\"}, \"type\": \"carpet\"}], \"choropleth\": [{\"colorbar\": {\"outlinewidth\": 0, \"ticks\": \"\"}, \"type\": \"choropleth\"}], \"contour\": [{\"colorbar\": {\"outlinewidth\": 0, \"ticks\": \"\"}, \"colorscale\": [[0.0, \"#0d0887\"], [0.1111111111111111, \"#46039f\"], [0.2222222222222222, \"#7201a8\"], [0.3333333333333333, \"#9c179e\"], [0.4444444444444444, \"#bd3786\"], [0.5555555555555556, \"#d8576b\"], [0.6666666666666666, \"#ed7953\"], [0.7777777777777778, \"#fb9f3a\"], [0.8888888888888888, \"#fdca26\"], [1.0, \"#f0f921\"]], \"type\": \"contour\"}], \"contourcarpet\": [{\"colorbar\": {\"outlinewidth\": 0, \"ticks\": \"\"}, \"type\": \"contourcarpet\"}], \"heatmap\": [{\"colorbar\": {\"outlinewidth\": 0, \"ticks\": \"\"}, \"colorscale\": [[0.0, \"#0d0887\"], [0.1111111111111111, \"#46039f\"], [0.2222222222222222, \"#7201a8\"], [0.3333333333333333, \"#9c179e\"], [0.4444444444444444, \"#bd3786\"], [0.5555555555555556, \"#d8576b\"], [0.6666666666666666, \"#ed7953\"], [0.7777777777777778, \"#fb9f3a\"], [0.8888888888888888, \"#fdca26\"], [1.0, \"#f0f921\"]], \"type\": \"heatmap\"}], \"heatmapgl\": [{\"colorbar\": {\"outlinewidth\": 0, \"ticks\": \"\"}, \"colorscale\": [[0.0, \"#0d0887\"], [0.1111111111111111, \"#46039f\"], [0.2222222222222222, \"#7201a8\"], [0.3333333333333333, \"#9c179e\"], [0.4444444444444444, \"#bd3786\"], [0.5555555555555556, \"#d8576b\"], [0.6666666666666666, \"#ed7953\"], [0.7777777777777778, \"#fb9f3a\"], [0.8888888888888888, \"#fdca26\"], [1.0, \"#f0f921\"]], \"type\": \"heatmapgl\"}], \"histogram\": [{\"marker\": {\"colorbar\": {\"outlinewidth\": 0, \"ticks\": \"\"}}, \"type\": \"histogram\"}], \"histogram2d\": [{\"colorbar\": {\"outlinewidth\": 0, \"ticks\": \"\"}, \"colorscale\": [[0.0, \"#0d0887\"], [0.1111111111111111, \"#46039f\"], [0.2222222222222222, \"#7201a8\"], [0.3333333333333333, \"#9c179e\"], [0.4444444444444444, \"#bd3786\"], [0.5555555555555556, \"#d8576b\"], [0.6666666666666666, \"#ed7953\"], [0.7777777777777778, \"#fb9f3a\"], [0.8888888888888888, \"#fdca26\"], [1.0, \"#f0f921\"]], \"type\": \"histogram2d\"}], \"histogram2dcontour\": [{\"colorbar\": {\"outlinewidth\": 0, \"ticks\": \"\"}, \"colorscale\": [[0.0, \"#0d0887\"], [0.1111111111111111, \"#46039f\"], [0.2222222222222222, \"#7201a8\"], [0.3333333333333333, \"#9c179e\"], [0.4444444444444444, \"#bd3786\"], [0.5555555555555556, \"#d8576b\"], [0.6666666666666666, \"#ed7953\"], [0.7777777777777778, \"#fb9f3a\"], [0.8888888888888888, \"#fdca26\"], [1.0, \"#f0f921\"]], \"type\": \"histogram2dcontour\"}], \"mesh3d\": [{\"colorbar\": {\"outlinewidth\": 0, \"ticks\": \"\"}, \"type\": \"mesh3d\"}], \"parcoords\": [{\"line\": {\"colorbar\": {\"outlinewidth\": 0, \"ticks\": \"\"}}, \"type\": \"parcoords\"}], \"pie\": [{\"automargin\": true, \"type\": \"pie\"}], \"scatter\": [{\"marker\": {\"colorbar\": {\"outlinewidth\": 0, \"ticks\": \"\"}}, \"type\": \"scatter\"}], \"scatter3d\": [{\"line\": {\"colorbar\": {\"outlinewidth\": 0, \"ticks\": \"\"}}, \"marker\": {\"colorbar\": {\"outlinewidth\": 0, \"ticks\": \"\"}}, \"type\": \"scatter3d\"}], \"scattercarpet\": [{\"marker\": {\"colorbar\": {\"outlinewidth\": 0, \"ticks\": \"\"}}, \"type\": \"scattercarpet\"}], \"scattergeo\": [{\"marker\": {\"colorbar\": {\"outlinewidth\": 0, \"ticks\": \"\"}}, \"type\": \"scattergeo\"}], \"scattergl\": [{\"marker\": {\"colorbar\": {\"outlinewidth\": 0, \"ticks\": \"\"}}, \"type\": \"scattergl\"}], \"scattermapbox\": [{\"marker\": {\"colorbar\": {\"outlinewidth\": 0, \"ticks\": \"\"}}, \"type\": \"scattermapbox\"}], \"scatterpolar\": [{\"marker\": {\"colorbar\": {\"outlinewidth\": 0, \"ticks\": \"\"}}, \"type\": \"scatterpolar\"}], \"scatterpolargl\": [{\"marker\": {\"colorbar\": {\"outlinewidth\": 0, \"ticks\": \"\"}}, \"type\": \"scatterpolargl\"}], \"scatterternary\": [{\"marker\": {\"colorbar\": {\"outlinewidth\": 0, \"ticks\": \"\"}}, \"type\": \"scatterternary\"}], \"surface\": [{\"colorbar\": {\"outlinewidth\": 0, \"ticks\": \"\"}, \"colorscale\": [[0.0, \"#0d0887\"], [0.1111111111111111, \"#46039f\"], [0.2222222222222222, \"#7201a8\"], [0.3333333333333333, \"#9c179e\"], [0.4444444444444444, \"#bd3786\"], [0.5555555555555556, \"#d8576b\"], [0.6666666666666666, \"#ed7953\"], [0.7777777777777778, \"#fb9f3a\"], [0.8888888888888888, \"#fdca26\"], [1.0, \"#f0f921\"]], \"type\": \"surface\"}], \"table\": [{\"cells\": {\"fill\": {\"color\": \"#EBF0F8\"}, \"line\": {\"color\": \"white\"}}, \"header\": {\"fill\": {\"color\": \"#C8D4E3\"}, \"line\": {\"color\": \"white\"}}, \"type\": \"table\"}]}, \"layout\": {\"annotationdefaults\": {\"arrowcolor\": \"#2a3f5f\", \"arrowhead\": 0, \"arrowwidth\": 1}, \"coloraxis\": {\"colorbar\": {\"outlinewidth\": 0, \"ticks\": \"\"}}, \"colorscale\": {\"diverging\": [[0, \"#8e0152\"], [0.1, \"#c51b7d\"], [0.2, \"#de77ae\"], [0.3, \"#f1b6da\"], [0.4, \"#fde0ef\"], [0.5, \"#f7f7f7\"], [0.6, \"#e6f5d0\"], [0.7, \"#b8e186\"], [0.8, \"#7fbc41\"], [0.9, \"#4d9221\"], [1, \"#276419\"]], \"sequential\": [[0.0, \"#0d0887\"], [0.1111111111111111, \"#46039f\"], [0.2222222222222222, \"#7201a8\"], [0.3333333333333333, \"#9c179e\"], [0.4444444444444444, \"#bd3786\"], [0.5555555555555556, \"#d8576b\"], [0.6666666666666666, \"#ed7953\"], [0.7777777777777778, \"#fb9f3a\"], [0.8888888888888888, \"#fdca26\"], [1.0, \"#f0f921\"]], \"sequentialminus\": [[0.0, \"#0d0887\"], [0.1111111111111111, \"#46039f\"], [0.2222222222222222, \"#7201a8\"], [0.3333333333333333, \"#9c179e\"], [0.4444444444444444, \"#bd3786\"], [0.5555555555555556, \"#d8576b\"], [0.6666666666666666, \"#ed7953\"], [0.7777777777777778, \"#fb9f3a\"], [0.8888888888888888, \"#fdca26\"], [1.0, \"#f0f921\"]]}, \"colorway\": [\"#636efa\", \"#EF553B\", \"#00cc96\", \"#ab63fa\", \"#FFA15A\", \"#19d3f3\", \"#FF6692\", \"#B6E880\", \"#FF97FF\", \"#FECB52\"], \"font\": {\"color\": \"#2a3f5f\"}, \"geo\": {\"bgcolor\": \"white\", \"lakecolor\": \"white\", \"landcolor\": \"#E5ECF6\", \"showlakes\": true, \"showland\": true, \"subunitcolor\": \"white\"}, \"hoverlabel\": {\"align\": \"left\"}, \"hovermode\": \"closest\", \"mapbox\": {\"style\": \"light\"}, \"paper_bgcolor\": \"white\", \"plot_bgcolor\": \"#E5ECF6\", \"polar\": {\"angularaxis\": {\"gridcolor\": \"white\", \"linecolor\": \"white\", \"ticks\": \"\"}, \"bgcolor\": \"#E5ECF6\", \"radialaxis\": {\"gridcolor\": \"white\", \"linecolor\": \"white\", \"ticks\": \"\"}}, \"scene\": {\"xaxis\": {\"backgroundcolor\": \"#E5ECF6\", \"gridcolor\": \"white\", \"gridwidth\": 2, \"linecolor\": \"white\", \"showbackground\": true, \"ticks\": \"\", \"zerolinecolor\": \"white\"}, \"yaxis\": {\"backgroundcolor\": \"#E5ECF6\", \"gridcolor\": \"white\", \"gridwidth\": 2, \"linecolor\": \"white\", \"showbackground\": true, \"ticks\": \"\", \"zerolinecolor\": \"white\"}, \"zaxis\": {\"backgroundcolor\": \"#E5ECF6\", \"gridcolor\": \"white\", \"gridwidth\": 2, \"linecolor\": \"white\", \"showbackground\": true, \"ticks\": \"\", \"zerolinecolor\": \"white\"}}, \"shapedefaults\": {\"line\": {\"color\": \"#2a3f5f\"}}, \"ternary\": {\"aaxis\": {\"gridcolor\": \"white\", \"linecolor\": \"white\", \"ticks\": \"\"}, \"baxis\": {\"gridcolor\": \"white\", \"linecolor\": \"white\", \"ticks\": \"\"}, \"bgcolor\": \"#E5ECF6\", \"caxis\": {\"gridcolor\": \"white\", \"linecolor\": \"white\", \"ticks\": \"\"}}, \"title\": {\"x\": 0.05}, \"xaxis\": {\"automargin\": true, \"gridcolor\": \"white\", \"linecolor\": \"white\", \"ticks\": \"\", \"title\": {\"standoff\": 15}, \"zerolinecolor\": \"white\", \"zerolinewidth\": 2}, \"yaxis\": {\"automargin\": true, \"gridcolor\": \"white\", \"linecolor\": \"white\", \"ticks\": \"\", \"title\": {\"standoff\": 15}, \"zerolinecolor\": \"white\", \"zerolinewidth\": 2}}}, \"title\": {\"text\": \"Total COVID 19 Cases Per Country\"}, \"width\": 1100},\n",
       "                        {\"responsive\": true}\n",
       "                    ).then(function(){\n",
       "                            \n",
       "var gd = document.getElementById('9506eb22-2c8c-4cb2-bc15-e82effdd26c0');\n",
       "var x = new MutationObserver(function (mutations, observer) {{\n",
       "        var display = window.getComputedStyle(gd).display;\n",
       "        if (!display || display === 'none') {{\n",
       "            console.log([gd, 'removed!']);\n",
       "            Plotly.purge(gd);\n",
       "            observer.disconnect();\n",
       "        }}\n",
       "}});\n",
       "\n",
       "// Listen for the removal of the full notebook cells\n",
       "var notebookContainer = gd.closest('#notebook-container');\n",
       "if (notebookContainer) {{\n",
       "    x.observe(notebookContainer, {childList: true});\n",
       "}}\n",
       "\n",
       "// Listen for the clearing of the current output cell\n",
       "var outputEl = gd.closest('.output');\n",
       "if (outputEl) {{\n",
       "    x.observe(outputEl, {childList: true});\n",
       "}}\n",
       "\n",
       "                        })\n",
       "                };\n",
       "                });\n",
       "            </script>\n",
       "        </div>"
      ]
     },
     "metadata": {},
     "output_type": "display_data"
    }
   ],
   "source": [
    "import plotly.graph_objects as go\n",
    "merged_inner['text'] = 'Country: ' + merged_inner['name'].astype(str) +'<br>' + 'Cases: ' + merged_inner['Total_Cases'].astype(str)\n",
    "fig = go.Figure(data=go.Choropleth(\n",
    "    locations = merged_inner['iso_a3'],\n",
    "    z = merged_inner['log_data_cases'],\n",
    "    text = merged_inner['text'],\n",
    "    colorscale = 'Viridis',\n",
    "    autocolorscale=True,\n",
    "    reversescale=False,\n",
    "    marker_line_color='darkgray',\n",
    "    marker_line_width=0.5,\n",
    "    colorbar_title = 'Log of' + '<br>' + 'Total Covid 19 Cases',\n",
    "))\n",
    "\n",
    "fig.update_layout(\n",
    "    title_text='Total COVID 19 Cases Per Country',\n",
    "    autosize=False,\n",
    "    width=1100,\n",
    "    height=600,\n",
    "    geo=dict(\n",
    "        showframe=False,\n",
    "        showcoastlines=False\n",
    "    )\n",
    "\n",
    ")\n",
    "fig.show()"
   ]
  },
  {
   "cell_type": "code",
   "execution_count": null,
   "metadata": {},
   "outputs": [],
   "source": []
  }
 ],
 "metadata": {
  "kernelspec": {
   "display_name": "Python 3",
   "language": "python",
   "name": "python3"
  },
  "language_info": {
   "codemirror_mode": {
    "name": "ipython",
    "version": 3
   },
   "file_extension": ".py",
   "mimetype": "text/x-python",
   "name": "python",
   "nbconvert_exporter": "python",
   "pygments_lexer": "ipython3",
   "version": "3.7.4"
  }
 },
 "nbformat": 4,
 "nbformat_minor": 4
}
